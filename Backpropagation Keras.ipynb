{
 "cells": [
  {
   "cell_type": "code",
   "execution_count": 1,
   "id": "8fd111de",
   "metadata": {},
   "outputs": [],
   "source": [
    "import numpy as np\n",
    "import pandas as pd"
   ]
  },
  {
   "cell_type": "code",
   "execution_count": 4,
   "id": "8b4b1a3f",
   "metadata": {},
   "outputs": [],
   "source": [
    "df = pd.DataFrame([[8,8,4],[7,9,5],[6,10,6],[5,12,7]],columns=['cgpa','profile_score','lpa'])"
   ]
  },
  {
   "cell_type": "code",
   "execution_count": 5,
   "id": "7bb946c6",
   "metadata": {},
   "outputs": [
    {
     "data": {
      "text/html": [
       "<div>\n",
       "<style scoped>\n",
       "    .dataframe tbody tr th:only-of-type {\n",
       "        vertical-align: middle;\n",
       "    }\n",
       "\n",
       "    .dataframe tbody tr th {\n",
       "        vertical-align: top;\n",
       "    }\n",
       "\n",
       "    .dataframe thead th {\n",
       "        text-align: right;\n",
       "    }\n",
       "</style>\n",
       "<table border=\"1\" class=\"dataframe\">\n",
       "  <thead>\n",
       "    <tr style=\"text-align: right;\">\n",
       "      <th></th>\n",
       "      <th>cgpa</th>\n",
       "      <th>profile_score</th>\n",
       "      <th>lpa</th>\n",
       "    </tr>\n",
       "  </thead>\n",
       "  <tbody>\n",
       "    <tr>\n",
       "      <th>0</th>\n",
       "      <td>8</td>\n",
       "      <td>8</td>\n",
       "      <td>4</td>\n",
       "    </tr>\n",
       "    <tr>\n",
       "      <th>1</th>\n",
       "      <td>7</td>\n",
       "      <td>9</td>\n",
       "      <td>5</td>\n",
       "    </tr>\n",
       "    <tr>\n",
       "      <th>2</th>\n",
       "      <td>6</td>\n",
       "      <td>10</td>\n",
       "      <td>6</td>\n",
       "    </tr>\n",
       "    <tr>\n",
       "      <th>3</th>\n",
       "      <td>5</td>\n",
       "      <td>12</td>\n",
       "      <td>7</td>\n",
       "    </tr>\n",
       "  </tbody>\n",
       "</table>\n",
       "</div>"
      ],
      "text/plain": [
       "   cgpa  profile_score  lpa\n",
       "0     8              8    4\n",
       "1     7              9    5\n",
       "2     6             10    6\n",
       "3     5             12    7"
      ]
     },
     "execution_count": 5,
     "metadata": {},
     "output_type": "execute_result"
    }
   ],
   "source": [
    "df"
   ]
  },
  {
   "cell_type": "code",
   "execution_count": 6,
   "id": "4653b274",
   "metadata": {},
   "outputs": [],
   "source": [
    "import tensorflow\n",
    "from tensorflow import keras\n",
    "from keras import Sequential\n",
    "from keras.layers import Dense"
   ]
  },
  {
   "cell_type": "code",
   "execution_count": 7,
   "id": "8a9d7ba5",
   "metadata": {},
   "outputs": [],
   "source": [
    "model = Sequential()\n",
    "\n",
    "model.add(Dense(2,activation='linear',input_dim=2))\n",
    "model.add(Dense(1,activation='linear'))"
   ]
  },
  {
   "cell_type": "code",
   "execution_count": 9,
   "id": "9edd2eca",
   "metadata": {},
   "outputs": [
    {
     "name": "stdout",
     "output_type": "stream",
     "text": [
      "Model: \"sequential\"\n",
      "_________________________________________________________________\n",
      " Layer (type)                Output Shape              Param #   \n",
      "=================================================================\n",
      " dense (Dense)               (None, 2)                 6         \n",
      "                                                                 \n",
      " dense_1 (Dense)             (None, 1)                 3         \n",
      "                                                                 \n",
      "=================================================================\n",
      "Total params: 9\n",
      "Trainable params: 9\n",
      "Non-trainable params: 0\n",
      "_________________________________________________________________\n"
     ]
    }
   ],
   "source": [
    "model.summary()"
   ]
  },
  {
   "cell_type": "code",
   "execution_count": 10,
   "id": "d82f6f64",
   "metadata": {},
   "outputs": [
    {
     "data": {
      "text/plain": [
       "[array([[-0.85167855,  1.1152068 ],\n",
       "        [ 0.91690147,  0.24664903]], dtype=float32),\n",
       " array([0., 0.], dtype=float32),\n",
       " array([[-0.85476875],\n",
       "        [ 0.7315446 ]], dtype=float32),\n",
       " array([0.], dtype=float32)]"
      ]
     },
     "execution_count": 10,
     "metadata": {},
     "output_type": "execute_result"
    }
   ],
   "source": [
    "model.get_weights()"
   ]
  },
  {
   "cell_type": "code",
   "execution_count": 12,
   "id": "31947771",
   "metadata": {},
   "outputs": [],
   "source": [
    "new_weights = [np.array([[0.1,0.1],[0.1,0.1]],dtype=np.float32),\n",
    "               np.array([0.,0.],dtype=np.float32),\n",
    "               np.array([[0.1],[0.1]],dtype=np.float32),\n",
    "               np.array([0.],dtype=np.float32)]"
   ]
  },
  {
   "cell_type": "code",
   "execution_count": 14,
   "id": "eef15e82",
   "metadata": {},
   "outputs": [],
   "source": [
    "model.set_weights(new_weights)"
   ]
  },
  {
   "cell_type": "code",
   "execution_count": 15,
   "id": "1d9a812f",
   "metadata": {},
   "outputs": [
    {
     "data": {
      "text/plain": [
       "[array([[0.1, 0.1],\n",
       "        [0.1, 0.1]], dtype=float32),\n",
       " array([0., 0.], dtype=float32),\n",
       " array([[0.1],\n",
       "        [0.1]], dtype=float32),\n",
       " array([0.], dtype=float32)]"
      ]
     },
     "execution_count": 15,
     "metadata": {},
     "output_type": "execute_result"
    }
   ],
   "source": [
    "model.get_weights()"
   ]
  },
  {
   "cell_type": "code",
   "execution_count": 16,
   "id": "aa3e0b94",
   "metadata": {},
   "outputs": [],
   "source": [
    "optimizer =  keras.optimizers.Adam(learning_rate=0.001)\n",
    "model.compile(loss='mean_squared_error',optimizer=optimizer)"
   ]
  },
  {
   "cell_type": "code",
   "execution_count": 17,
   "id": "b2c897b6",
   "metadata": {},
   "outputs": [
    {
     "name": "stdout",
     "output_type": "stream",
     "text": [
      "Epoch 1/75\n",
      "4/4 [==============================] - 1s 3ms/step - loss: 27.8961\n",
      "Epoch 2/75\n",
      "4/4 [==============================] - 0s 5ms/step - loss: 27.5937\n",
      "Epoch 3/75\n",
      "4/4 [==============================] - 0s 5ms/step - loss: 27.2442\n",
      "Epoch 4/75\n",
      "4/4 [==============================] - 0s 5ms/step - loss: 26.9248\n",
      "Epoch 5/75\n",
      "4/4 [==============================] - 0s 2ms/step - loss: 26.5767\n",
      "Epoch 6/75\n",
      "4/4 [==============================] - 0s 5ms/step - loss: 26.2185\n",
      "Epoch 7/75\n",
      "4/4 [==============================] - 0s 4ms/step - loss: 25.8496\n",
      "Epoch 8/75\n",
      "4/4 [==============================] - 0s 3ms/step - loss: 25.4681\n",
      "Epoch 9/75\n",
      "4/4 [==============================] - 0s 3ms/step - loss: 25.0581\n",
      "Epoch 10/75\n",
      "4/4 [==============================] - 0s 8ms/step - loss: 24.6512\n",
      "Epoch 11/75\n",
      "4/4 [==============================] - 0s 5ms/step - loss: 24.2582\n",
      "Epoch 12/75\n",
      "4/4 [==============================] - 0s 3ms/step - loss: 23.8464\n",
      "Epoch 13/75\n",
      "4/4 [==============================] - 0s 4ms/step - loss: 23.4167\n",
      "Epoch 14/75\n",
      "4/4 [==============================] - 0s 3ms/step - loss: 22.9508\n",
      "Epoch 15/75\n",
      "4/4 [==============================] - 0s 5ms/step - loss: 22.4880\n",
      "Epoch 16/75\n",
      "4/4 [==============================] - 0s 5ms/step - loss: 22.0529\n",
      "Epoch 17/75\n",
      "4/4 [==============================] - 0s 3ms/step - loss: 21.5418\n",
      "Epoch 18/75\n",
      "4/4 [==============================] - 0s 4ms/step - loss: 21.0769\n",
      "Epoch 19/75\n",
      "4/4 [==============================] - 0s 6ms/step - loss: 20.5882\n",
      "Epoch 20/75\n",
      "4/4 [==============================] - 0s 3ms/step - loss: 20.0822\n",
      "Epoch 21/75\n",
      "4/4 [==============================] - 0s 3ms/step - loss: 19.6053\n",
      "Epoch 22/75\n",
      "4/4 [==============================] - 0s 5ms/step - loss: 19.0689\n",
      "Epoch 23/75\n",
      "4/4 [==============================] - 0s 3ms/step - loss: 18.5824\n",
      "Epoch 24/75\n",
      "4/4 [==============================] - 0s 6ms/step - loss: 18.0542\n",
      "Epoch 25/75\n",
      "4/4 [==============================] - 0s 2ms/step - loss: 17.4911\n",
      "Epoch 26/75\n",
      "4/4 [==============================] - 0s 4ms/step - loss: 17.0002\n",
      "Epoch 27/75\n",
      "4/4 [==============================] - 0s 4ms/step - loss: 16.4601\n",
      "Epoch 28/75\n",
      "4/4 [==============================] - 0s 5ms/step - loss: 15.9811\n",
      "Epoch 29/75\n",
      "4/4 [==============================] - 0s 3ms/step - loss: 15.4588\n",
      "Epoch 30/75\n",
      "4/4 [==============================] - 0s 3ms/step - loss: 14.9236\n",
      "Epoch 31/75\n",
      "4/4 [==============================] - 0s 5ms/step - loss: 14.3267\n",
      "Epoch 32/75\n",
      "4/4 [==============================] - 0s 7ms/step - loss: 13.8448\n",
      "Epoch 33/75\n",
      "4/4 [==============================] - 0s 4ms/step - loss: 13.3674\n",
      "Epoch 34/75\n",
      "4/4 [==============================] - 0s 2ms/step - loss: 12.8079\n",
      "Epoch 35/75\n",
      "4/4 [==============================] - 0s 7ms/step - loss: 12.3522\n",
      "Epoch 36/75\n",
      "4/4 [==============================] - 0s 4ms/step - loss: 11.7976\n",
      "Epoch 37/75\n",
      "4/4 [==============================] - 0s 5ms/step - loss: 11.3362\n",
      "Epoch 38/75\n",
      "4/4 [==============================] - 0s 7ms/step - loss: 10.8629\n",
      "Epoch 39/75\n",
      "4/4 [==============================] - 0s 193us/step - loss: 10.3455\n",
      "Epoch 40/75\n",
      "4/4 [==============================] - 0s 2ms/step - loss: 9.8679\n",
      "Epoch 41/75\n",
      "4/4 [==============================] - 0s 7ms/step - loss: 9.4317\n",
      "Epoch 42/75\n",
      "4/4 [==============================] - 0s 3ms/step - loss: 8.9663\n",
      "Epoch 43/75\n",
      "4/4 [==============================] - 0s 4ms/step - loss: 8.5302\n",
      "Epoch 44/75\n",
      "4/4 [==============================] - 0s 5ms/step - loss: 8.1024\n",
      "Epoch 45/75\n",
      "4/4 [==============================] - 0s 3ms/step - loss: 7.7364\n",
      "Epoch 46/75\n",
      "4/4 [==============================] - 0s 7ms/step - loss: 7.3554\n",
      "Epoch 47/75\n",
      "4/4 [==============================] - 0s 3ms/step - loss: 6.9566\n",
      "Epoch 48/75\n",
      "4/4 [==============================] - 0s 6ms/step - loss: 6.5621\n",
      "Epoch 49/75\n",
      "4/4 [==============================] - 0s 6ms/step - loss: 6.1800\n",
      "Epoch 50/75\n",
      "4/4 [==============================] - 0s 5ms/step - loss: 5.8193\n",
      "Epoch 51/75\n",
      "4/4 [==============================] - 0s 3ms/step - loss: 5.5483\n",
      "Epoch 52/75\n",
      "4/4 [==============================] - 0s 2ms/step - loss: 5.1899\n",
      "Epoch 53/75\n",
      "4/4 [==============================] - 0s 3ms/step - loss: 4.9132\n",
      "Epoch 54/75\n",
      "4/4 [==============================] - 0s 5ms/step - loss: 4.6178\n",
      "Epoch 55/75\n",
      "4/4 [==============================] - 0s 3ms/step - loss: 4.3591\n",
      "Epoch 56/75\n",
      "4/4 [==============================] - 0s 3ms/step - loss: 4.1214\n",
      "Epoch 57/75\n",
      "4/4 [==============================] - 0s 6ms/step - loss: 3.8323\n",
      "Epoch 58/75\n",
      "4/4 [==============================] - 0s 3ms/step - loss: 3.6383\n",
      "Epoch 59/75\n",
      "4/4 [==============================] - 0s 3ms/step - loss: 3.4336\n",
      "Epoch 60/75\n",
      "4/4 [==============================] - 0s 5ms/step - loss: 3.2433\n",
      "Epoch 61/75\n",
      "4/4 [==============================] - 0s 3ms/step - loss: 2.9944\n",
      "Epoch 62/75\n",
      "4/4 [==============================] - 0s 3ms/step - loss: 2.8419\n",
      "Epoch 63/75\n",
      "4/4 [==============================] - 0s 5ms/step - loss: 2.7003\n",
      "Epoch 64/75\n",
      "4/4 [==============================] - 0s 3ms/step - loss: 2.5246\n",
      "Epoch 65/75\n",
      "4/4 [==============================] - 0s 1ms/step - loss: 2.4247\n",
      "Epoch 66/75\n",
      "4/4 [==============================] - 0s 4ms/step - loss: 2.2692\n",
      "Epoch 67/75\n",
      "4/4 [==============================] - 0s 5ms/step - loss: 2.1462\n",
      "Epoch 68/75\n",
      "4/4 [==============================] - 0s 3ms/step - loss: 2.0231\n",
      "Epoch 69/75\n",
      "4/4 [==============================] - 0s 5ms/step - loss: 1.9369\n",
      "Epoch 70/75\n",
      "4/4 [==============================] - 0s 5ms/step - loss: 1.8276\n",
      "Epoch 71/75\n",
      "4/4 [==============================] - 0s 5ms/step - loss: 1.7492\n",
      "Epoch 72/75\n",
      "4/4 [==============================] - 0s 5ms/step - loss: 1.7145\n",
      "Epoch 73/75\n",
      "4/4 [==============================] - 0s 3ms/step - loss: 1.6346\n",
      "Epoch 74/75\n",
      "4/4 [==============================] - 0s 3ms/step - loss: 1.5336\n",
      "Epoch 75/75\n",
      "4/4 [==============================] - 0s 2ms/step - loss: 1.5149\n"
     ]
    },
    {
     "data": {
      "text/plain": [
       "<keras.callbacks.History at 0x1f3ca2d45e0>"
      ]
     },
     "execution_count": 17,
     "metadata": {},
     "output_type": "execute_result"
    }
   ],
   "source": [
    "model.fit(df.iloc[:,0:-1].values,df['lpa'].values,epochs=75,verbose=1,batch_size=1)"
   ]
  },
  {
   "cell_type": "code",
   "execution_count": 18,
   "id": "7202edca",
   "metadata": {},
   "outputs": [
    {
     "data": {
      "text/plain": [
       "[array([[0.37387073, 0.37387073],\n",
       "        [0.36561698, 0.36561698]], dtype=float32),\n",
       " array([0.2724311, 0.2724311], dtype=float32),\n",
       " array([[0.37302735],\n",
       "        [0.37302735]], dtype=float32),\n",
       " array([0.20472449], dtype=float32)]"
      ]
     },
     "execution_count": 18,
     "metadata": {},
     "output_type": "execute_result"
    }
   ],
   "source": [
    "model.get_weights()"
   ]
  },
  {
   "cell_type": "code",
   "execution_count": null,
   "id": "3b0ce36b",
   "metadata": {},
   "outputs": [],
   "source": []
  }
 ],
 "metadata": {
  "kernelspec": {
   "display_name": "Python 3 (ipykernel)",
   "language": "python",
   "name": "python3"
  },
  "language_info": {
   "codemirror_mode": {
    "name": "ipython",
    "version": 3
   },
   "file_extension": ".py",
   "mimetype": "text/x-python",
   "name": "python",
   "nbconvert_exporter": "python",
   "pygments_lexer": "ipython3",
   "version": "3.9.7"
  }
 },
 "nbformat": 4,
 "nbformat_minor": 5
}
